{
  "cells": [
    {
      "attachments": {},
      "cell_type": "markdown",
      "id": "aaba15be",
      "metadata": {
        "id": "aaba15be"
      },
      "source": [
        "\n",
        "## Objective\n",
        "The objective of this assignment is to give you hands-on experience with deep learning packages, such as pyTorch. The task here is to build a model that takes an image as input and produces a single number. The image contains three digits consisting only of digits 1,2 and 3. The output of the model should be the product of these digits. It is up to you to choose the model architecture. You may choose to first predict each digit and then calculate their product, or calculate the product in one shot. You may approach this as a classification task since the output options are limited, or consider it as a regression task. \n",
        "\n"
      ]
    },
    {
      "attachments": {},
      "cell_type": "markdown",
      "id": "fc882798",
      "metadata": {
        "id": "fc882798"
      },
      "source": [
        "## The dataset\n",
        "Use the following code to load the data using the npy files. We have 11,000 training examples, where each image is 64x64. Labels are the product of numbers in each image. The label is printed at the top of each example shown below."
      ]
    },
    {
      "cell_type": "code",
      "execution_count": 1,
      "id": "9lSczoFhBrJW",
      "metadata": {
        "colab": {
          "base_uri": "https://localhost:8080/"
        },
        "id": "9lSczoFhBrJW",
        "outputId": "499d940e-b9b8-45ea-84a9-e55c0b7d45a2"
      },
      "outputs": [
        {
          "name": "stdout",
          "output_type": "stream",
          "text": [
            "Mounted at /content/drive\n"
          ]
        }
      ],
      "source": [
        "#importing the datasets from my google drive\n",
        "import os\n",
        "from google.colab import drive\n",
        "drive.mount('/content/drive')\n",
        "os.chdir(\"/content/drive/MyDrive/Colab Notebooks/datasets\")"
      ]
    },
    {
      "cell_type": "code",
      "execution_count": 2,
      "id": "012ab947",
      "metadata": {
        "colab": {
          "base_uri": "https://localhost:8080/",
          "height": 89
        },
        "id": "012ab947",
        "outputId": "15a7c79e-c7c0-4ccd-b4da-7f463c781d83"
      },
      "outputs": [
        {
          "data": {
            "image/png": "[encoded data removed]",
            "text/plain": [
              "<Figure size 1440x14400 with 40 Axes>"
            ]
          },
          "metadata": {
            "needs_background": "light"
          },
          "output_type": "display_data"
        }
      ],
      "source": [
        "import numpy as np\n",
        "import matplotlib.pyplot as plt\n",
        "from mpl_toolkits.axes_grid1 import ImageGrid                        \n",
        "\n",
        "x = np.load('x_train.npy') #11,000 x 64 x 64\n",
        "y = np.load('y_train.npy')\n",
        "xt = np.load('x_test.npy')\n",
        "yt = np.load('y_test.npy')\n",
        "def plot_digits(x,y):\n",
        "    num_plots = x.shape[0]\n",
        "    fig = plt.figure(figsize=(num_plots, 10.*num_plots))\n",
        "    grid = ImageGrid(fig, 111, nrows_ncols=(1, num_plots), axes_pad=0.1)\n",
        "    for i in range(num_plots):\n",
        "        grid[i].imshow(x[i].reshape((64,64)))\n",
        "        grid[i].set_title(str(y[i]))\n",
        "    plt.show()\n",
        "plot_digits(x[:20], y[:20])  #plot 20 first instances in the dataset "
      ]
    },
    {
      "attachments": {},
      "cell_type": "markdown",
      "id": "e02d451b",
      "metadata": {
        "id": "e02d451b"
      },
      "source": [
        "## Preprocessing "
      ]
    },
    {
      "cell_type": "code",
      "execution_count": 3,
      "id": "ec8162fa",
      "metadata": {
        "id": "ec8162fa"
      },
      "outputs": [],
      "source": [
        "import torch\n",
        "import torch.nn as nn\n",
        "import torch.nn.functional as F\n",
        "import torch.optim as optim\n",
        "import torchvision\n",
        "import torchvision.transforms as transforms\n",
        "from torch.utils.data import DataLoader , TensorDataset\n",
        "from sklearn.preprocessing import LabelEncoder\n",
        "from sklearn.preprocessing import OneHotEncoder\n",
        "\n",
        "#initate the one hot encoder\n",
        "onehot = OneHotEncoder(sparse = False)\n",
        "#make the training labels veritcle\n",
        "y_train = y.reshape(-1, 1)\n",
        "# transform training labels into one hot encoding and then back again\n",
        "# this changes the labels from (1,2,3,...,27) to (0,1,2,...,9)\n",
        "y_train = onehot.fit_transform(y_train)\n",
        "y_train=torch.from_numpy(y_train)\n",
        "y_train= torch.argmax(y_train, dim=1)\n",
        "\n",
        "#make the test labels veritcle\n",
        "y_test = yt.reshape(-1, 1)\n",
        "# transform test labels into one hot encoding and then back again\n",
        "# this changes the labels from (1,2,3,...,27) to (0,1,2,...,9)\n",
        "y_test = onehot.fit_transform(y_test)\n",
        "y_test=torch.from_numpy(y_test)\n",
        "y_test= torch.argmax(y_test, dim=1)\n",
        "\n",
        "#Transform the x_training data and combining it with the y_train data to create a data set so that \n",
        "#it the data is easier to work with\n",
        "transform = transforms.Compose([transforms.ToTensor(),transforms.Normalize((0.5),(0.5))])\n",
        "x = np.array(x, np.float64)\n",
        "x2=transform(x)\n",
        "x2=x2.transpose(1,0)\n",
        "data=TensorDataset(x2,y_train)\n",
        "trainloader = torch.utils.data.DataLoader(dataset=data, batch_size=5,shuffle=True, num_workers=2)\n",
        "\n",
        "\n",
        "#Transform the first half of the x_yest data and combining it with the y_test data to create a \n",
        "#dataset so that the data is easier to work with\n",
        "transform = transforms.Compose([transforms.ToTensor(),transforms.Normalize((0.5),(0.5))])\n",
        "x2t=xt[:4500]\n",
        "x2t = np.array(x2t, np.float64)\n",
        "x2t=transform(x2t)\n",
        "x2t=x2t.transpose(1,0)\n",
        "data2=TensorDataset(x2t,y_test)\n",
        "testloader = torch.utils.data.DataLoader(dataset=data2, batch_size=5,shuffle=False, num_workers=2)\n",
        "\n",
        "#Transform x_yest data using it as a dataset on its own as there isn't labels for all 9000 images\n",
        "transform = transforms.Compose([transforms.ToTensor(),transforms.Normalize((0.5),(0.5))])\n",
        "x2t2 = np.array(xt, np.float64)\n",
        "x2t2=transform(x2t2)\n",
        "x2t2=x2t2.transpose(1,0)\n",
        "testloader2 = torch.utils.data.DataLoader(x2t2, batch_size=5,shuffle=False, num_workers=2)\n"
      ]
    },
    {
      "attachments": {},
      "cell_type": "markdown",
      "id": "5aa02e25",
      "metadata": {
        "id": "5aa02e25"
      },
      "source": [
        "# Model and its training\n"
      ]
    },
    {
      "cell_type": "code",
      "execution_count": 7,
      "id": "e01016d3",
      "metadata": {
        "colab": {
          "base_uri": "https://localhost:8080/"
        },
        "id": "e01016d3",
        "outputId": "7a2cfb50-b70c-42d6-bbe2-3a6043d74a78"
      },
      "outputs": [
        {
          "name": "stdout",
          "output_type": "stream",
          "text": [
            "Epoch 0, Train Accuracy: 0.3338181674480438\n",
            "Epoch 1, Train Accuracy: 0.710454523563385\n",
            "Epoch 2, Train Accuracy: 0.840363621711731\n",
            "Epoch 3, Train Accuracy: 0.898727297782898\n",
            "Epoch 4, Train Accuracy: 0.9169090986251831\n",
            "Finished Training\n"
          ]
        }
      ],
      "source": [
        "class Net(nn.Module):\n",
        "    #creates a 7 layer deep CNN model\n",
        "    #each layer other than the first either double or keeps the same number of channels\n",
        "    #each layer has the standard kernel size of 3, stride of 1, and padding of 1\n",
        "    def __init__(self):\n",
        "        super(Net, self).__init__()\n",
        "        self.conv1 = nn.Conv2d(in_channels=1,out_channels=12,kernel_size=3,stride=1,padding=1).double()\n",
        "        self.relu1=nn.ReLU()\n",
        "        self.conv2 = nn.Conv2d(in_channels=12,out_channels=24,kernel_size=3,stride=1,padding=1).double()\n",
        "        self.relu2=nn.ReLU()\n",
        "        self.pool = nn.MaxPool2d(kernel_size=2)\n",
        "        self.conv3 = nn.Conv2d(in_channels=24, out_channels=48, kernel_size=3, stride=1, padding=1).double()\n",
        "        self.relu3 = nn.ReLU()\n",
        "        self.conv4 = nn.Conv2d(in_channels=48, out_channels=48, kernel_size=3, stride=1, padding=1).double()\n",
        "        self.relu4 = nn.ReLU()\n",
        "        self.conv5= nn.Conv2d(in_channels=48, out_channels=96, kernel_size=3, stride=1, padding=1).double()\n",
        "        self.relu5 = nn.ReLU()\n",
        "        self.conv6 = nn.Conv2d(in_channels=96, out_channels=96, kernel_size=3, stride=1, padding=1).double()\n",
        "        self.relu6 = nn.ReLU()\n",
        "        self.conv7= nn.Conv2d(in_channels=96, out_channels=96, kernel_size=3, stride=1, padding=1).double()\n",
        "        self.relu7 = nn.ReLU()\n",
        "        self.fc = nn.Linear(in_features=32*32*96,out_features=10).double()\n",
        "\n",
        "    #run the data on all 7 layers with a relu inbetween each one\n",
        "    #have only one pool after the second layers as I found that worked the best for my model\n",
        "    #same is true with having only one fc call right at the end\n",
        "    def forward(self, x):\n",
        "        x=x.unsqueeze(0)\n",
        "        x=x.permute(1,0,2,3)\n",
        "        x = self.conv1(x)\n",
        "        x = self.relu1(x)\n",
        "        x = self.conv2(x)\n",
        "        x = self.relu2(x)\n",
        "        x = self.pool(x)\n",
        "        x = self.conv3(x)\n",
        "        x = self.relu3(x)\n",
        "        x = self.conv4(x)\n",
        "        x = self.relu4(x)\n",
        "        x = self.conv5(x)\n",
        "        x = self.relu5(x)\n",
        "        x = self.conv6(x)\n",
        "        x = self.relu6(x)\n",
        "        x = self.conv7(x)\n",
        "        x = self.relu7(x)\n",
        "        x = x.view(-1, 32 * 32 * 96)\n",
        "        x = self.fc(x)\n",
        "        return x\n",
        "net = Net()\n",
        "#Define the optimizer and loss function\n",
        "#learning rate is a variable as it gets changed during training\n",
        "loss_fn = nn.CrossEntropyLoss()\n",
        "lr=0.001\n",
        "optimizer = optim.SGD(net.parameters(), lr, momentum=0.9)\n",
        "#five epochs produced the best test accuracy on this model\n",
        "for epoch in range(5):  # loop over the dataset multiple times\n",
        "\n",
        "    #initiate variables to keep track of accuracy\n",
        "    train_acc = 0.0\n",
        "    for data in trainloader:\n",
        "        # get the inputs; data is a list of [inputs, labels]\n",
        "        inputs, labels = data\n",
        "        # zero the parameter gradients\n",
        "        optimizer.zero_grad()\n",
        "\n",
        "        # forward then backwards then optimize\n",
        "        outputs = net(inputs)\n",
        "        loss = loss_fn(outputs, labels)\n",
        "        loss.backward()\n",
        "        optimizer.step()\n",
        "\n",
        "        #get predicitons and compare to actual\n",
        "        _, prediction = torch.max(outputs.data, 1) \n",
        "        train_acc += torch.sum(prediction == labels)\n",
        "    train_acc = train_acc / 11000 \n",
        "    #divide learning rate by 4 after every epoch so model is constantly adjusting how it learns\n",
        "    lr=lr/4\n",
        "    # print statistics\n",
        "    print(\"Epoch {}, Train Accuracy: {}\".format(epoch, train_acc))\n",
        "print('Finished Training') \n",
        "    "
      ]
    },
    {
      "attachments": {},
      "cell_type": "markdown",
      "id": "e2fa181c",
      "metadata": {
        "id": "e2fa181c"
      },
      "source": [
        "# Accuracy metrics and CSV submission to Kaggle"
      ]
    },
    {
      "cell_type": "code",
      "execution_count": 9,
      "id": "56a2a784",
      "metadata": {
        "colab": {
          "base_uri": "https://localhost:8080/"
        },
        "id": "56a2a784",
        "outputId": "afadec6b-f209-4005-f9c1-0956b53ea64a"
      },
      "outputs": [
        {
          "name": "stdout",
          "output_type": "stream",
          "text": [
            "The accuracy of the model that should match the public leaderboard accuracy is tensor(89.0222) %\n"
          ]
        }
      ],
      "source": [
        "\n",
        "#test method that tests on the first half of the test data with labels\n",
        "def test():\n",
        "      test_acc = 0.0\n",
        "      total=0\n",
        "      for data in testloader:\n",
        "        images, labels = data\n",
        "        outputs = net(images) \n",
        "        _, predicted = torch.max(outputs.data, 1)\n",
        "        test_acc +=torch.sum(predicted == labels.data)\n",
        "      return (test_acc/4500) \n",
        "\n",
        "accuracy=test()      \n",
        "print(\"The accuracy of the model that should match the public leaderboard accuracy is\", accuracy*100, '%')\n",
        "# <<< your code here"
      ]
    },
    {
      "cell_type": "code",
      "execution_count": 10,
      "id": "2843d2f3",
      "metadata": {
        "id": "2843d2f3"
      },
      "outputs": [],
      "source": [
        "import pandas as pd \n",
        "def generate_csv_kaggle(y):\n",
        "    indexes = np.arange(len(y))\n",
        "    csv_labels = np.concatenate((indexes.reshape(-1,1), y.reshape(-1,1)),axis=1)\n",
        "    df = pd.DataFrame(csv_labels,columns=['Id','Category'])\n",
        "    df['Id'] = df['Id'].astype(str)\n",
        "    df['Category'] = df['Category'].astype(str)\n",
        "    df.to_csv('predicted_labels2.csv',index=False)\n",
        "    pass\n",
        "#predict method to get the prediction for all 9000 test images\n",
        "#creates an empty array then appends the predicitons to it \n",
        "def predict():\n",
        "      a=np.zeros(0)\n",
        "      for data in testloader2:\n",
        "        images= data\n",
        "        outputs = net(images)\n",
        "        _, predicted = torch.max(outputs.data, 1)\n",
        "        a=np.append(a,predicted)\n",
        "      return a       \n",
        "yh_test = predict().astype(int) \n",
        "#Changing labels back from (0,1,2,...,9) to (1,2,3,...,27)\n",
        "yh_test[yh_test==9]=27\n",
        "yh_test[yh_test==8]=18\n",
        "yh_test[yh_test==7]=12\n",
        "yh_test[yh_test==6]=9\n",
        "yh_test[yh_test==5]=8\n",
        "yh_test[yh_test==4]=6\n",
        "yh_test[yh_test==3]=4\n",
        "yh_test[yh_test==2]=3\n",
        "yh_test[yh_test==1]=2\n",
        "yh_test[yh_test==0]=1\n",
        "\n",
        "generate_csv_kaggle(yh_test)"
      ]
    }
  ],
  "metadata": {
    "colab": {
      "provenance": []
    },
    "kernelspec": {
      "display_name": "Python 3.9.13 64-bit",
      "language": "python",
      "name": "python3"
    },
    "language_info": {
      "codemirror_mode": {
        "name": "ipython",
        "version": 3
      },
      "file_extension": ".py",
      "mimetype": "text/x-python",
      "name": "python",
      "nbconvert_exporter": "python",
      "pygments_lexer": "ipython3",
      "version": "3.9.13"
    },
    "vscode": {
      "interpreter": {
        "hash": "b0fa6594d8f4cbf19f97940f81e996739fb7646882a419484c72d19e05852a7e"
      }
    }
  },
  "nbformat": 4,
  "nbformat_minor": 5
}
